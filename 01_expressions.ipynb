{
  "nbformat": 4,
  "nbformat_minor": 0,
  "metadata": {
    "colab": {
      "provenance": [],
      "authorship_tag": "ABX9TyPCsMqelCvEUxQ2+7oQg1iA",
      "include_colab_link": true
    },
    "kernelspec": {
      "name": "python3",
      "display_name": "Python 3"
    },
    "language_info": {
      "name": "python"
    }
  },
  "cells": [
    {
      "cell_type": "markdown",
      "metadata": {
        "id": "view-in-github",
        "colab_type": "text"
      },
      "source": [
        "<a href=\"https://colab.research.google.com/github/sirfanzaidi/Project-4-Assignments/blob/main/01_expressions.ipynb\" target=\"_parent\"><img src=\"https://colab.research.google.com/assets/colab-badge.svg\" alt=\"Open In Colab\"/></a>"
      ]
    },
    {
      "cell_type": "code",
      "execution_count": 5,
      "metadata": {
        "colab": {
          "base_uri": "https://localhost:8080/"
        },
        "id": "D4uLr-sPnG6U",
        "outputId": "80994b20-4608-4df9-a393-6e1b489006dc"
      },
      "outputs": [
        {
          "output_type": "stream",
          "name": "stdout",
          "text": [
            "01_dicesimulator\n",
            "dice1 in main() start as :10\n",
            "total of 2 dice is 9\n",
            "total of 2 dice is 10\n",
            "total of 2 dice is 5\n",
            "dice1 in main() is: 10\n"
          ]
        }
      ],
      "source": [
        "import random\n",
        "print (\"01_dicesimulator\")\n",
        "\n",
        "def roll_dice():\n",
        "  dice1:int = random.randint(1,6)\n",
        "  dice2:int = random.randint(1,6)\n",
        "  total:int = dice1 + dice2\n",
        "  print(f'total of 2 dice is {total}')\n",
        "\n",
        "def main():\n",
        "  dice1:int = 10\n",
        "  print(\"dice1 in main() start as: \" + str(dice1))\n",
        "  roll_dice()\n",
        "  roll_dice()\n",
        "  roll_dice()\n",
        "  print(\"dice1 in main() is: \" + str(dice1))\n",
        "\n",
        "if __name__ == \"__main__\":\n",
        "  main()\n",
        "\n"
      ]
    },
    {
      "cell_type": "code",
      "source": [
        "print(\"02_e=mc2\")\n",
        "\n",
        "def energy():\n",
        "  c:int = 299792458\n",
        "  m:int = float(input(\"Enter kilos of mass: \"))\n",
        "  print(\"E = m * c**2\" )\n",
        "  print(\"Mass = \" + str(m) + \" kg\")\n",
        "  print(\"c = \" + str(c) + \" m/s\")\n",
        "  print(\"e = \" + str (m * c** 2 ) + \" jules\")\n",
        "\n",
        "if __name__ == \"__main__\":\n",
        "  energy()"
      ],
      "metadata": {
        "colab": {
          "base_uri": "https://localhost:8080/"
        },
        "id": "XAHT9KyqrMxH",
        "outputId": "99929e0a-9795-40b0-8453-5970337a4ff4"
      },
      "execution_count": 12,
      "outputs": [
        {
          "output_type": "stream",
          "name": "stdout",
          "text": [
            "02_e=mc2\n",
            "Enter kilos of mass: 450\n",
            "E = m * c**2\n",
            "Mass = 450.0 kg\n",
            "c = 299792458 m/s\n",
            "e = 4.0443983043156795e+19 jules\n"
          ]
        }
      ]
    },
    {
      "cell_type": "code",
      "source": [
        "print(\"03_feet_to_inches\")\n",
        "\n",
        "inch:int = 12\n",
        "\n",
        "def foot():\n",
        "  feet:int = int(input(\"Enter feet and i will conert in to inches:\"))\n",
        "  print (f'There are {inch * feet} inches in {feet} feet. ')\n",
        "if __name__ == \"__main__\":\n",
        "  foot()"
      ],
      "metadata": {
        "colab": {
          "base_uri": "https://localhost:8080/"
        },
        "id": "FKMHc7oMuBQX",
        "outputId": "e05b9994-c109-4fed-d7d3-2efa2f3e07b3"
      },
      "execution_count": 15,
      "outputs": [
        {
          "output_type": "stream",
          "name": "stdout",
          "text": [
            "03_feet_to_inches\n",
            "Enter feet and i will conert in to inches:12\n",
            "There are 144 inches in 12 feet. \n"
          ]
        }
      ]
    },
    {
      "cell_type": "code",
      "source": [
        "import math\n",
        "print(\"04_pythagorean_theorem\")\n",
        "\n",
        "def tirangle():\n",
        "  ab:float = float(input(\"lenght of the side ab is: \"))\n",
        "  ac:float = float(input(\"Lenght of the side ac is:  \"))\n",
        "  bc:float = math.sqrt(ab**2 + ac**2)\n",
        "  print(f'The lenght of bc (the hypothenuse is: {bc})')\n",
        "if __name__ == \"__main__\":\n",
        "  tirangle()"
      ],
      "metadata": {
        "colab": {
          "base_uri": "https://localhost:8080/"
        },
        "id": "lRrJTTqvu1K0",
        "outputId": "3ecebdc7-e01e-4898-925e-e0d592543b31"
      },
      "execution_count": 21,
      "outputs": [
        {
          "output_type": "stream",
          "name": "stdout",
          "text": [
            "04_pythagorean_theorem\n",
            "lenght of the side ab is: 15\n",
            "Lenght of the side ac is:  15\n",
            "The lenght of bc (the hypothenuse is: 21.213203435596427)\n"
          ]
        }
      ]
    },
    {
      "cell_type": "code",
      "source": [
        "print (\"05_remainder_division\")\n",
        "def reminder():\n",
        "  num1:int = int(input(\"Enter an Integer to be divided: \"))\n",
        "  num2:int = int(input(\"Enter an Integer to divided by: \"))\n",
        "  quotion:int = num1 // num2\n",
        "  remainder:int = num1 % num2\n",
        "  print(f'the result of this devision is : {quotion} with a reminder of {remainder}')\n",
        "if __name__== \"__main__\":\n",
        "  reminder()\n"
      ],
      "metadata": {
        "colab": {
          "base_uri": "https://localhost:8080/"
        },
        "id": "rayOKfJPzSL4",
        "outputId": "cd7dc06d-5654-4888-953c-d670c1b034a3"
      },
      "execution_count": 33,
      "outputs": [
        {
          "output_type": "stream",
          "name": "stdout",
          "text": [
            "05_remainder_division\n",
            "Enter an Integer to be divided: 11\n",
            "Enter an Integer to divided by: 2\n",
            "the result of this devision is : 5 with a reminder of 1\n"
          ]
        }
      ]
    },
    {
      "cell_type": "code",
      "source": [
        "import random\n",
        "print(\"06_rolldice\")\n",
        "\n",
        "\n",
        "def dice():\n",
        "  dice1:int = random.randint(1,6)\n",
        "  dice2:int = random.randint(1,6)\n",
        "  total:int = int(dice1 + dice2)\n",
        "  print(\"first dice:\" + str(dice1))\n",
        "  print(\"second dice:\" + str(dice2))\n",
        "  print(f'Total ot tow dies : {total}')\n",
        "\n",
        "if __name__ == \"__main__\":\n",
        "  dice()"
      ],
      "metadata": {
        "colab": {
          "base_uri": "https://localhost:8080/"
        },
        "id": "g-Kt2vfB1ciB",
        "outputId": "84ec50db-f8a0-429d-9ba2-3937bbeed8d6"
      },
      "execution_count": 39,
      "outputs": [
        {
          "output_type": "stream",
          "name": "stdout",
          "text": [
            "06_rolldice\n",
            "first dice:5\n",
            "second dice:3\n",
            "Total ot tow dies : 8\n"
          ]
        }
      ]
    },
    {
      "cell_type": "code",
      "source": [
        "print(\"06_seconds_in_year\")\n",
        "\n",
        "days_in_year:int = 365\n",
        "hours_in_day:int = 24\n",
        "minutes_in_hour:int = 60\n",
        "seconds_in_minute:int = 60\n",
        "\n",
        "def seconds():\n",
        "  print(f'There are {days_in_year * hours_in_day * minutes_in_hour * seconds_in_minute} seconds in a year')\n",
        "\n",
        "if __name__ == \"__main__\":\n",
        "    seconds()"
      ],
      "metadata": {
        "colab": {
          "base_uri": "https://localhost:8080/"
        },
        "id": "nYCL8a1Q2SSu",
        "outputId": "1796f28a-8323-49be-a28b-7202cb569252"
      },
      "execution_count": 42,
      "outputs": [
        {
          "output_type": "stream",
          "name": "stdout",
          "text": [
            "06_seconds_in_year\n",
            "There are 31536000 seconds in a year\n"
          ]
        }
      ]
    },
    {
      "cell_type": "code",
      "source": [
        "print(\"07_tiny_mad_lib\")\n",
        "\n",
        "def mad_lib():\n",
        "  noun:str = str(input(\"Enter a noun: \"))\n",
        "  adjective:str = str(input(\"Enter an adjective: \"))\n",
        "  verb:str = str(input(\"Enter a verb: \"))\n",
        "  print(f'Do you {verb} your {adjective} {noun}? That\\'s hilarious!')\n",
        "\n",
        "if __name__ == \"__main__\":\n",
        "    mad_lib()"
      ],
      "metadata": {
        "colab": {
          "base_uri": "https://localhost:8080/"
        },
        "id": "ZBEG4Wpz3bLs",
        "outputId": "170de6c8-2634-46cc-efe9-244c608a70ab"
      },
      "execution_count": 48,
      "outputs": [
        {
          "output_type": "stream",
          "name": "stdout",
          "text": [
            "07_tiny_mad_lib\n",
            "Enter a noun: going\n",
            "Enter an adjective: walk\n",
            "Enter a verb: in morning\n",
            "Do you in morning your walk going? That's hilarious!\n"
          ]
        }
      ]
    }
  ]
}