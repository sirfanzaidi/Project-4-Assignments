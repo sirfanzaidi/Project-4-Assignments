{
  "nbformat": 4,
  "nbformat_minor": 0,
  "metadata": {
    "colab": {
      "provenance": [],
      "authorship_tag": "ABX9TyN+IXrIbU2DPd519qaKa7g9",
      "include_colab_link": true
    },
    "kernelspec": {
      "name": "python3",
      "display_name": "Python 3"
    },
    "language_info": {
      "name": "python"
    }
  },
  "cells": [
    {
      "cell_type": "markdown",
      "metadata": {
        "id": "view-in-github",
        "colab_type": "text"
      },
      "source": [
        "<a href=\"https://colab.research.google.com/github/sirfanzaidi/Project-4-Assignments/blob/main/04_dictionaries.ipynb\" target=\"_parent\"><img src=\"https://colab.research.google.com/assets/colab-badge.svg\" alt=\"Open In Colab\"/></a>"
      ]
    },
    {
      "cell_type": "code",
      "execution_count": null,
      "metadata": {
        "id": "HBArP0t8mbyK"
      },
      "outputs": [],
      "source": []
    },
    {
      "cell_type": "code",
      "source": [
        "print(\"00_count_nums\")\n",
        "\n",
        "def count_numbers():\n",
        "    count_dict = {}\n",
        "\n",
        "    while True:\n",
        "        user_input = input(\"Enter a number (or 'exit' to quit): \")\n",
        "\n",
        "        if user_input.lower() == 'exit':\n",
        "            break\n",
        "\n",
        "        if user_input.isdigit():\n",
        "            num = int(user_input)\n",
        "            count_dict[num] = count_dict.get(num, 0) + 1\n",
        "        else:\n",
        "            print(\"Invalid input. Please enter a number or 'exit'.\")\n",
        "\n",
        "    return count_dict\n",
        "\n",
        "def display_counts(count_dict):\n",
        "    print(\"\\nNumber Counts:\")\n",
        "    for key, value in sorted(count_dict.items()):\n",
        "        print(f\"{key} appears {value} time{'s' if value != 1 else ''}\")\n",
        "\n",
        "if __name__ == \"__main__\":\n",
        "    count_dict = count_numbers()\n",
        "    display_counts(count_dict)"
      ],
      "metadata": {
        "colab": {
          "base_uri": "https://localhost:8080/"
        },
        "id": "h0QX2ERsmcW2",
        "outputId": "11be99a4-8760-4c1b-8bec-45b87dbd6426"
      },
      "execution_count": 10,
      "outputs": [
        {
          "output_type": "stream",
          "name": "stdout",
          "text": [
            "00_count_nums\n",
            "Enter a number (or 'exit' to quit): 2\n",
            "Enter a number (or 'exit' to quit): 2\n",
            "Enter a number (or 'exit' to quit): 2\n",
            "Enter a number (or 'exit' to quit): 2\n",
            "Enter a number (or 'exit' to quit): 6\n",
            "Enter a number (or 'exit' to quit): \n",
            "Invalid input. Please enter a number or 'exit'.\n",
            "Enter a number (or 'exit' to quit): \n",
            "Invalid input. Please enter a number or 'exit'.\n",
            "Enter a number (or 'exit' to quit): 6\n",
            "Enter a number (or 'exit' to quit): Exit\n",
            "\n",
            "Number Counts:\n",
            "2 appears 4 times\n",
            "6 appears 2 times\n"
          ]
        }
      ]
    },
    {
      "cell_type": "code",
      "source": [
        "print(\"01_phonebook\")\n",
        "\n",
        "\n",
        "def add_contact(phonebook):\n",
        "  name = input(\"Enter cntact name: \")\n",
        "  number = input(\"Enter contact number:\")\n",
        "\n",
        "  if name in phonebook:\n",
        "    print(f\"{name} already exist in  the phonebook.\")\n",
        "  else:\n",
        "    phonebook[name] = number\n",
        "    print(f\"{name} added to the phonebook.\")\n",
        "\n",
        "def search_contact(phonebook):\n",
        "  name = input(\"Enter contact name to search : \")\n",
        "\n",
        "  if name in phonebook:\n",
        "    print(f\"{name}: {phonebook[name]}\")\n",
        "  else:\n",
        "    print(f\"{name} not found in the phonebook.\")\n",
        "\n",
        "def delete_contact(phonebook):\n",
        "  name = input(\"Enter contact name to delete:\")\n",
        "\n",
        "  if name in phonebook:\n",
        "    del phonebook[name]\n",
        "    print(f\"{name} deleted from the phonebook.\")\n",
        "  else:\n",
        "    print(f\"{name} not found in phonebook\")\n",
        "\n",
        "\n",
        "\n",
        "def display_contact(phonebook):\n",
        "\n",
        "  if phonebook:\n",
        "    print(\"\\n Phonebook contacts list:\")\n",
        "    for name, number in phonebook.items():\n",
        "      print(f\"{name}: {number}\")\n",
        "  else:\n",
        "    print(\"phonebook is empty.\")\n",
        "\n",
        "\n",
        "if __name__ == \"__main__\":\n",
        "  phonebook = {}\n",
        "  while True:\n",
        "    print(\"\\n Phonebook Menu:\")\n",
        "    print(\"1. Add contact\")\n",
        "    print(\"2. Search contact\")\n",
        "    print(\"3. Delete contact\")\n",
        "    print(\"4. Display contacts\")\n",
        "    print(\"5. Exit\")\n",
        "\n",
        "    choice = input(\"Enter your choice (1/2/3/4/5): \")\n",
        "\n",
        "    if choice == '1':\n",
        "      add_contact(phonebook)\n",
        "    elif choice == '2':\n",
        "      search_contact(phonebook)\n",
        "    elif choice == '3':\n",
        "      delete_contact(phonebook)\n",
        "    elif choice == '4':\n",
        "      display_contact(phonebook)\n",
        "    elif choice == '5':\n",
        "      print(\"Exiting phonebook. Goodbye!\")\n",
        "      break\n",
        "    else:\n",
        "      print(\"Invalid choice. Please select a valid option.\")"
      ],
      "metadata": {
        "colab": {
          "base_uri": "https://localhost:8080/"
        },
        "id": "bUZkYFw_rVBi",
        "outputId": "6c44994a-9461-4607-ef97-8e25fa60c099"
      },
      "execution_count": 13,
      "outputs": [
        {
          "output_type": "stream",
          "name": "stdout",
          "text": [
            "01_phonebook\n",
            "\n",
            " Phonebook Menu:\n",
            "1. Add contact\n",
            "2. Search contact\n",
            "3. Delete contact\n",
            "4. Display contacts\n",
            "5. Exit\n",
            "Enter your choice (1/2/3/4/5): 1\n",
            "Enter cntact name: irfan\n",
            "Enter contact number:03142114580\n",
            "irfan added to the phonebook.\n",
            "\n",
            " Phonebook Menu:\n",
            "1. Add contact\n",
            "2. Search contact\n",
            "3. Delete contact\n",
            "4. Display contacts\n",
            "5. Exit\n",
            "Enter your choice (1/2/3/4/5): 2\n",
            "Enter contact name to search : irfan\n",
            "irfan: 03142114580\n",
            "\n",
            " Phonebook Menu:\n",
            "1. Add contact\n",
            "2. Search contact\n",
            "3. Delete contact\n",
            "4. Display contacts\n",
            "5. Exit\n",
            "Enter your choice (1/2/3/4/5): 3\n",
            "Enter contact name to delete:irfan\n",
            "irfan deleted from the phonebook.\n",
            "\n",
            " Phonebook Menu:\n",
            "1. Add contact\n",
            "2. Search contact\n",
            "3. Delete contact\n",
            "4. Display contacts\n",
            "5. Exit\n",
            "Enter your choice (1/2/3/4/5): 4\n",
            "phonebook is empty.\n",
            "\n",
            " Phonebook Menu:\n",
            "1. Add contact\n",
            "2. Search contact\n",
            "3. Delete contact\n",
            "4. Display contacts\n",
            "5. Exit\n",
            "Enter your choice (1/2/3/4/5): exit\n",
            "Invalid choice. Please select a valid option.\n",
            "\n",
            " Phonebook Menu:\n",
            "1. Add contact\n",
            "2. Search contact\n",
            "3. Delete contact\n",
            "4. Display contacts\n",
            "5. Exit\n",
            "Enter your choice (1/2/3/4/5): 4\n",
            "phonebook is empty.\n",
            "\n",
            " Phonebook Menu:\n",
            "1. Add contact\n",
            "2. Search contact\n",
            "3. Delete contact\n",
            "4. Display contacts\n",
            "5. Exit\n",
            "Enter your choice (1/2/3/4/5): exit\n",
            "Invalid choice. Please select a valid option.\n",
            "\n",
            " Phonebook Menu:\n",
            "1. Add contact\n",
            "2. Search contact\n",
            "3. Delete contact\n",
            "4. Display contacts\n",
            "5. Exit\n",
            "Enter your choice (1/2/3/4/5): 5\n",
            "Exiting phonebook. Goodbye!\n"
          ]
        }
      ]
    },
    {
      "cell_type": "code",
      "source": [
        "print (\"02_pop_up_shop\")\n",
        "\n",
        "def calculate_total_cost():\n",
        "  fruits_price = {\n",
        "      \"apple\": 5.0,\n",
        "      \"mango\": 15.0,\n",
        "      \"kiwi\": 8.0,\n",
        "      \"pear\": 12.0,\n",
        "      \"banana\": 6.0,\n",
        "      \"orange\": 10.0\n",
        "\n",
        "  }\n",
        "\n",
        "  total_cost = 0\n",
        "\n",
        "  for fruits,price in fruits_price.items():\n",
        "    while True:\n",
        "      try:\n",
        "        quantity = int(input(f\"how many {fruits} do you want?: \"))\n",
        "        if quantity < 0:\n",
        "          print(\"Invalid input. Please enter a non-negative number.\")\n",
        "          continue\n",
        "        total_cost += price * quantity\n",
        "        break\n",
        "      except ValueError:\n",
        "        print(\"Invalid input. Please enter a valid number.\")\n",
        "\n",
        "\n",
        "     print(f\"\\n your total cost is: ${total_cost:.2f} \")\n",
        "\n",
        "if __name__ == \"__main__\":\n",
        "  calculate_total_cost()"
      ],
      "metadata": {
        "colab": {
          "base_uri": "https://localhost:8080/"
        },
        "id": "IHWRvJKZyG8d",
        "outputId": "b5c8229e-f26c-4e16-8eda-a2b1bed123fc"
      },
      "execution_count": 18,
      "outputs": [
        {
          "output_type": "stream",
          "name": "stdout",
          "text": [
            "02_pop_up_shop\n",
            "how many apple do you want?: 7\n",
            "\n",
            " your total cost is: $35.00 \n",
            "how many mango do you want?: 8\n",
            "\n",
            " your total cost is: $155.00 \n",
            "how many kiwi do you want?: 9\n",
            "\n",
            " your total cost is: $227.00 \n",
            "how many pear do you want?: \n",
            "Invalid input. Please enter a valid number.\n",
            "how many pear do you want?: 4\n",
            "\n",
            " your total cost is: $275.00 \n",
            "how many banana do you want?: 5\n",
            "\n",
            " your total cost is: $305.00 \n",
            "how many orange do you want?: 6\n",
            "\n",
            " your total cost is: $365.00 \n"
          ]
        }
      ]
    },
    {
      "cell_type": "code",
      "source": [
        "import hashlib\n",
        "\n",
        "print (\"03_powerful_passwords\")\n",
        "\n",
        "def has_password(password):\n",
        "  return hashlib.sha256(password.encode()).hexdigest()\n",
        "\n",
        "stored_logins = {\n",
        "  \"user1\": has_password(\"password1\"),\n",
        "  \"user2\": has_password(\"password2\"),\n",
        "  \"user3\": has_password(\"password3\")\n",
        "}\n",
        "\n",
        "def login(email, password):\n",
        "  if email in stored_logins:\n",
        "    return stored_logins[email] == has_password(password)\n",
        "  else:\n",
        "    return False\n",
        "if __name__ == \"__main__\":\n",
        "  email = input(\"Enter your email: \")\n",
        "  password = input(\"Enter your password: \")\n",
        "\n",
        "  if login(email, password):\n",
        "    print(\"Login successful!\")\n",
        "  else:\n",
        "    print(\"Invalid email or password.\")"
      ],
      "metadata": {
        "colab": {
          "base_uri": "https://localhost:8080/"
        },
        "id": "AfEx_ZWk9Miw",
        "outputId": "a022beae-bf08-4889-8e4e-e7d65218435f"
      },
      "execution_count": 20,
      "outputs": [
        {
          "output_type": "stream",
          "name": "stdout",
          "text": [
            "03_powerful_passwords\n",
            "Enter your email: user1\n",
            "Enter your password: password1\n",
            "Login successful!\n"
          ]
        }
      ]
    }
  ]
}