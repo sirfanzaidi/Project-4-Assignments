{
  "nbformat": 4,
  "nbformat_minor": 0,
  "metadata": {
    "colab": {
      "provenance": [],
      "authorship_tag": "ABX9TyOIXAy38Ov+ZCHUZppWcXPN",
      "include_colab_link": true
    },
    "kernelspec": {
      "name": "python3",
      "display_name": "Python 3"
    },
    "language_info": {
      "name": "python"
    }
  },
  "cells": [
    {
      "cell_type": "markdown",
      "metadata": {
        "id": "view-in-github",
        "colab_type": "text"
      },
      "source": [
        "<a href=\"https://colab.research.google.com/github/sirfanzaidi/Project-4-Assignments/blob/main/03_if_statements.ipynb\" target=\"_parent\"><img src=\"https://colab.research.google.com/assets/colab-badge.svg\" alt=\"Open In Colab\"/></a>"
      ]
    },
    {
      "cell_type": "code",
      "source": [
        "print (\"01_print_events\")\n",
        "\n",
        "def even():\n",
        "  for i in range(40):\n",
        "    print(\"here is 20 even numbers are:\",i * 2)\n",
        "\n",
        "if __name__ == \"__main__\":\n",
        "  even()\n",
        "print(\"02_international_voting_age\")\n",
        "\n"
      ],
      "metadata": {
        "id": "YUEXPbmvie-9"
      },
      "execution_count": null,
      "outputs": []
    },
    {
      "cell_type": "code",
      "source": [
        "Peturksbouipo:int = 16\n",
        "Stanlau:int = 25\n",
        "Mayengua:int = 48\n",
        "\n",
        "def main():\n",
        "  age:int = int(input(\"How old are you?\"))\n",
        "  if age >= Peturksbouipo:\n",
        "    print(f\"your age is {age}. you are eligible to vote in Peturskbouipo\")\n",
        "  else:\n",
        "    print(f\"your age is {age}. you are not eligible to vote in Peturskbouipo\")\n",
        "\n",
        "  if age >= Stanlau:\n",
        "    print(f\"your age is {age}. you are eligible to vote in Stanlau\")\n",
        "  else:\n",
        "    print(f\"your age is {age}. you are not eligible to vote in Stanlau\")\n",
        "\n",
        "  if age >= Mayengua:\n",
        "    print(f\"your age is {age}. you are eligible to vote in Mayengua\")\n",
        "  else:\n",
        "    print(f\"your age is {age}. you are not eligible to vote in Mayengua\")\n",
        "\n",
        "if __name__ == \"__main__\":\n",
        "  main()\n",
        "\n"
      ],
      "metadata": {
        "colab": {
          "base_uri": "https://localhost:8080/"
        },
        "id": "n6DWCK8wikLe",
        "outputId": "47447259-ab8b-43b9-997d-1ee44a42bdb7"
      },
      "execution_count": 14,
      "outputs": [
        {
          "output_type": "stream",
          "name": "stdout",
          "text": [
            "How old are you?25\n",
            "your age is 25. you are eligible to vote in Peturskbouipo\n",
            "your age is 25. you are eligible to vote in Stanlau\n",
            "your age is 25. you are not eligible to vote in Mayengua\n"
          ]
        }
      ]
    },
    {
      "cell_type": "code",
      "source": [
        "print (\"03_leap_year\")\n",
        "\n",
        "def leap_year():\n",
        "  year:int = int(input(\"Enter as year.\"))\n",
        "\n",
        "  if year % 4 == 0:\n",
        "    if year % 100 == 0:\n",
        "      if year % 400 == 0:\n",
        "        print(f\"{year} is a Leap year.\")\n",
        "      else:\n",
        "        print(f\"{year} is a not a leap year.\")\n",
        "    else:\n",
        "        print(f\"{year} is a not a leap year.\")\n",
        "  else:\n",
        "        print(f\"{year} is a not a leap year.\")\n",
        "\n",
        "\n",
        "if __name__ == \"__main__\":\n",
        "  leap_year()\n"
      ],
      "metadata": {
        "colab": {
          "base_uri": "https://localhost:8080/"
        },
        "id": "xUQ9NEVVi0CX",
        "outputId": "6b2612dd-8761-47ec-b6ab-aa7da16022ce"
      },
      "execution_count": 20,
      "outputs": [
        {
          "output_type": "stream",
          "name": "stdout",
          "text": [
            "03_leap_year\n",
            "Enter as year.2024\n",
            "2024 is a not a leap year.\n"
          ]
        }
      ]
    },
    {
      "cell_type": "code",
      "source": [
        "print(\"04_tall_enough_to_ride\")\n",
        "\n",
        "minimum_height:int = 50\n",
        "def  main():\n",
        "  user:int = int(input(\"How tall are you\"))\n",
        "  if user >= minimum_height:\n",
        "    print(\"you are tall enough to ride.\")\n",
        "  else:\n",
        "    print(\"you are not tall enough to ride. may be next year.\")\n",
        "\n",
        "if __name__ == \"__main__\":\n",
        "  main()"
      ],
      "metadata": {
        "colab": {
          "base_uri": "https://localhost:8080/"
        },
        "id": "kQqCH3oHj7lT",
        "outputId": "22094521-3b7c-4117-8b9d-12a2d1dd887c"
      },
      "execution_count": 23,
      "outputs": [
        {
          "output_type": "stream",
          "name": "stdout",
          "text": [
            "04_tall_enough_to_ride\n",
            "How tall are you52\n",
            "you are tall enough to ride.\n"
          ]
        }
      ]
    },
    {
      "cell_type": "code",
      "source": [
        "print(\"05_random_numbers.\")\n",
        "\n",
        "import random\n",
        "\n",
        "def main():\n",
        "  for i in range(10):\n",
        "    num:list[int] = random.randint(1,100)\n",
        "    print(num)\n",
        "\n",
        "\n",
        "if __name__ == \"__main__\":\n",
        "  main()"
      ],
      "metadata": {
        "colab": {
          "base_uri": "https://localhost:8080/"
        },
        "id": "ii4LJtGnk1SC",
        "outputId": "7ced6ecd-07a4-4e94-942b-7f0db92b9910"
      },
      "execution_count": 31,
      "outputs": [
        {
          "output_type": "stream",
          "name": "stdout",
          "text": [
            "05_random_numbers.\n",
            "84\n",
            "29\n",
            "38\n",
            "66\n",
            "36\n",
            "41\n",
            "95\n",
            "98\n",
            "95\n",
            "69\n"
          ]
        }
      ]
    }
  ]
}