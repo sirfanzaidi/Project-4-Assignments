{
  "nbformat": 4,
  "nbformat_minor": 0,
  "metadata": {
    "colab": {
      "provenance": [],
      "authorship_tag": "ABX9TyN53JGlITBGfjvB0xaV5l2k",
      "include_colab_link": true
    },
    "kernelspec": {
      "name": "python3",
      "display_name": "Python 3"
    },
    "language_info": {
      "name": "python"
    }
  },
  "cells": [
    {
      "cell_type": "markdown",
      "metadata": {
        "id": "view-in-github",
        "colab_type": "text"
      },
      "source": [
        "<a href=\"https://colab.research.google.com/github/sirfanzaidi/Project-4-Assignments/blob/main/05_loops_control_flow.ipynb\" target=\"_parent\"><img src=\"https://colab.research.google.com/assets/colab-badge.svg\" alt=\"Open In Colab\"/></a>"
      ]
    },
    {
      "cell_type": "code",
      "execution_count": null,
      "metadata": {
        "id": "fib8JcuTi2cu"
      },
      "outputs": [],
      "source": []
    },
    {
      "cell_type": "code",
      "source": [
        "import random\n",
        "print (\"00_guess_my_number\")\n",
        "\n",
        "def main():\n",
        "  secret_number = random.randint(1,100)\n",
        "  print(\"I am thinking of a number between 1 and 100\")\n",
        "\n",
        "  guess = int(input(\"Your guess: \"))\n",
        "  while guess != secret_number:\n",
        "    if guess > secret_number:\n",
        "      print(\"Too high\")\n",
        "    else:\n",
        "      print(\"Too low\")\n",
        "    guess = int(input(\"Try again: \"))\n",
        "  print(f\"Congratulation! the number was {secret_number}\")\n",
        "if __name__ == \"__main__\":\n",
        "  main()"
      ],
      "metadata": {
        "colab": {
          "base_uri": "https://localhost:8080/"
        },
        "id": "9V3w6J9EjgtM",
        "outputId": "c42fd29d-496b-445b-ec17-ca099542e2e0"
      },
      "execution_count": 2,
      "outputs": [
        {
          "output_type": "stream",
          "name": "stdout",
          "text": [
            "00_guess_my_number\n",
            "I am thinking of a number between 1 and 100\n",
            "Your guess: 61\n",
            "Too high\n",
            "Try again: 51\n",
            "Too high\n",
            "Try again: 41\n",
            "Too high\n",
            "Try again: 31\n",
            "Too high\n",
            "Try again: 5\n",
            "Too low\n",
            "Try again: 10\n",
            "Too low\n",
            "Try again: 15\n",
            "Too low\n",
            "Try again: 20\n",
            "Too low\n",
            "Try again: 25\n",
            "Too high\n",
            "Try again: 21\n",
            "Too low\n",
            "Try again: 22\n",
            "Too low\n",
            "Try again: 23\n",
            "Too low\n",
            "Try again: 25\n",
            "Too high\n",
            "Try again: 24\n",
            "Congratulation! the number was 24\n"
          ]
        }
      ]
    },
    {
      "cell_type": "code",
      "source": [
        "print (\"01_fibonacci\")\n",
        "\n",
        "max_value = 10000\n",
        "\n",
        "def main():\n",
        "  a,b = 0,1\n",
        "  print(a,b, end = \" \")\n",
        "\n",
        "  while True:\n",
        "    c = a+b\n",
        "    if c >= max_value:\n",
        "      break\n",
        "    print(c, end = \" \")\n",
        "    a = b\n",
        "    b = c\n",
        "\n",
        "if __name__ == \"__main__\":\n",
        "  main()"
      ],
      "metadata": {
        "colab": {
          "base_uri": "https://localhost:8080/"
        },
        "id": "DKZ_3RdxksNY",
        "outputId": "291fba22-ff28-4201-d7a7-2c755f4032a3"
      },
      "execution_count": 3,
      "outputs": [
        {
          "output_type": "stream",
          "name": "stdout",
          "text": [
            "01_fibonacci\n",
            "0 1 1 2 3 5 8 13 21 34 55 89 144 233 377 610 987 1597 2584 4181 6765 "
          ]
        }
      ]
    },
    {
      "cell_type": "code",
      "source": [
        "print (\"02_print_events\")\n",
        "\n",
        "\n",
        "def main():\n",
        "  for i in range(20):\n",
        "    print (i*2)\n",
        "\n",
        "if __name__ == \"__main__\":\n",
        "  main()\n"
      ],
      "metadata": {
        "colab": {
          "base_uri": "https://localhost:8080/"
        },
        "id": "d3QmKOyQt1Yh",
        "outputId": "a69eb3f6-0a11-4a60-d555-a4468eded7b2"
      },
      "execution_count": 7,
      "outputs": [
        {
          "output_type": "stream",
          "name": "stdout",
          "text": [
            "02_print_events\n",
            "0\n",
            "2\n",
            "4\n",
            "6\n",
            "8\n",
            "10\n",
            "12\n",
            "14\n",
            "16\n",
            "18\n",
            "20\n",
            "22\n",
            "24\n",
            "26\n",
            "28\n",
            "30\n",
            "32\n",
            "34\n",
            "36\n",
            "38\n"
          ]
        }
      ]
    },
    {
      "cell_type": "code",
      "source": [
        "print (\"03_wholesome_machine\")\n",
        "\n",
        "\n",
        "correct_affermation = \"i am capable of doing anything. I put my mind too.\"\n",
        "\n",
        "def main():\n",
        "  print(\"Welcom to the wholesome Machine\")\n",
        "  while True:\n",
        "    user_input = input(\"Please type the following affermation:\" + correct_affermation)\n",
        "    if user_input == correct_affermation:\n",
        "      print(\"That\\'s right! \")\n",
        "      break\n",
        "    else:\n",
        "      print(\"Hmmm! That was not the affermation. please try againg!\")\n",
        "\n",
        "if __name__ == \"__main__\":\n",
        "  main()\n"
      ],
      "metadata": {
        "colab": {
          "base_uri": "https://localhost:8080/"
        },
        "id": "Qzq517kFuUVW",
        "outputId": "de980f55-d121-42ca-9cc1-5ed86a95291e"
      },
      "execution_count": 9,
      "outputs": [
        {
          "output_type": "stream",
          "name": "stdout",
          "text": [
            "03_wholesome_machine\n",
            "Welcom to the wholesome Machine\n",
            "Please type the following affermation:i am capable of doing anything. I put my mind too.dfdsf\n",
            "Hmmm! That was not the affermation. please try againg!\n",
            "Please type the following affermation:i am capable of doing anything. I put my mind too.super man\n",
            "Hmmm! That was not the affermation. please try againg!\n",
            "Please type the following affermation:i am capable of doing anything. I put my mind too.i am capable of doing anything. I put my mind too\n",
            "Hmmm! That was not the affermation. please try againg!\n",
            "Please type the following affermation:i am capable of doing anything. I put my mind too.i am capable of doing anything. I put my mind too.\n",
            "That's right! \n"
          ]
        }
      ]
    },
    {
      "cell_type": "code",
      "source": [
        "# @title Default title text\n",
        "print (\"04_liftoff\")\n",
        "\n",
        "def main():\n",
        "  for i in range(10,0,-1):\n",
        "    print(i)\n",
        "  print(\"Liftoff!\")\n",
        "\n",
        "if __name__ == \"__main__\":\n",
        "  main()"
      ],
      "metadata": {
        "colab": {
          "base_uri": "https://localhost:8080/"
        },
        "id": "qQ3LshMOvaIb",
        "outputId": "a383b8d0-6dc8-4b2a-897e-5b3f18bd6916"
      },
      "execution_count": 11,
      "outputs": [
        {
          "output_type": "stream",
          "name": "stdout",
          "text": [
            "04_liftoff\n",
            "10\n",
            "9\n",
            "8\n",
            "7\n",
            "6\n",
            "5\n",
            "4\n",
            "3\n",
            "2\n",
            "1\n",
            "Liftoff!\n"
          ]
        }
      ]
    },
    {
      "cell_type": "code",
      "source": [
        "print(\"05_double_it\")\n",
        "\n",
        "def main():\n",
        "  user_value = int(input(\"Please enter a number: \"))\n",
        "  while user_value < 100:\n",
        "    user_value *= 2\n",
        "    print(user_value)\n",
        "\n",
        "if __name__ == \"__main__\":\n",
        "  main()"
      ],
      "metadata": {
        "colab": {
          "base_uri": "https://localhost:8080/"
        },
        "id": "p_0GqD9Sv328",
        "outputId": "8dd75847-f0cf-4860-f556-5100ecb172b5"
      },
      "execution_count": 12,
      "outputs": [
        {
          "output_type": "stream",
          "name": "stdout",
          "text": [
            "05_double_it\n",
            "Please enter a number: 5\n",
            "10\n",
            "20\n",
            "40\n",
            "80\n",
            "160\n"
          ]
        }
      ]
    }
  ]
}