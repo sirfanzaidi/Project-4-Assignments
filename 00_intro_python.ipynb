{
  "nbformat": 4,
  "nbformat_minor": 0,
  "metadata": {
    "colab": {
      "provenance": [],
      "authorship_tag": "ABX9TyOZiq9O3CwVqR1DBwhzF36s",
      "include_colab_link": true
    },
    "kernelspec": {
      "name": "python3",
      "display_name": "Python 3"
    },
    "language_info": {
      "name": "python"
    }
  },
  "cells": [
    {
      "cell_type": "markdown",
      "metadata": {
        "id": "view-in-github",
        "colab_type": "text"
      },
      "source": [
        "<a href=\"https://colab.research.google.com/github/sirfanzaidi/Project-4-Assignments/blob/main/00_intro_python.ipynb\" target=\"_parent\"><img src=\"https://colab.research.google.com/assets/colab-badge.svg\" alt=\"Open In Colab\"/></a>"
      ]
    },
    {
      "cell_type": "code",
      "execution_count": 3,
      "metadata": {
        "colab": {
          "base_uri": "https://localhost:8080/"
        },
        "id": "EXGsJLr7UZYT",
        "outputId": "99ceedd1-fa36-41ca-93be-a7ba471ce793"
      },
      "outputs": [
        {
          "output_type": "stream",
          "name": "stdout",
          "text": [
            "01_add_two_numbers\n",
            "This application for add two numbers\n",
            "enter your first number15\n",
            "enter your second number20\n",
            "the total sum of 15 and 20 is 35\n"
          ]
        }
      ],
      "source": [
        "print(\"01_add_two_numbers\")\n",
        "\n",
        "def add():\n",
        "  print(\"This application for add two numbers\")\n",
        "  first_num = int(input(\"enter your first number. \"))\n",
        "  second_num = int(input(\"enter your second number. \"))\n",
        "  total = int(first_num + second_num)\n",
        "  print(f'the total sum of {first_num} and {second_num} is {total}')\n",
        "\n",
        "if __name__ == \"__main__\":\n",
        "  add()\n"
      ]
    },
    {
      "cell_type": "code",
      "source": [
        "print (\"02_agreement_bot\")\n",
        "\n",
        "def bot():\n",
        "  animal = str(input(\"What their favourite animal is? \"))\n",
        "  print(f'My favourite animal is aslo {animal}')\n",
        "\n",
        "if __name__ == \"__main__\":\n",
        "    bot()"
      ],
      "metadata": {
        "colab": {
          "base_uri": "https://localhost:8080/"
        },
        "id": "u_SOd42KUwdd",
        "outputId": "f6b15053-3ebf-4adb-e65f-9ba8aa7d1d6e"
      },
      "execution_count": 10,
      "outputs": [
        {
          "output_type": "stream",
          "name": "stdout",
          "text": [
            "02_agreement_bot\n",
            "What their favourite animal is Camel\n",
            "My favourite animal is aslo Camel\n"
          ]
        }
      ]
    },
    {
      "cell_type": "code",
      "source": [
        "print (\"03_fahrenheit_to_celsius\")\n",
        "\n",
        "def temp():\n",
        "  print(\"This code for converting fahrenheit to celsius\")\n",
        "  fahrenheit_deg = float(input(\"Enter your fahrenheit degree. \"))\n",
        "  celsius_deg = (fahrenheit_deg - 32)*5.0/9.0\n",
        "  print(f'Temperature {fahrenheit_deg}F = {celsius_deg}C')\n",
        "\n",
        "if __name__ == \"__main__\":\n",
        "    temp()\n",
        "\n"
      ],
      "metadata": {
        "colab": {
          "base_uri": "https://localhost:8080/"
        },
        "id": "qmQ5FNetYJ25",
        "outputId": "e916f384-3390-4ddf-ed95-833c6f77dc5e"
      },
      "execution_count": 12,
      "outputs": [
        {
          "output_type": "stream",
          "name": "stdout",
          "text": [
            "03_fahrenheit_to_celsius\n",
            "This code for converting fahrenheit to celsius\n",
            "Enter your fahrenheit degree.64\n",
            "Temperature 64.0F = 17.77777777777778C\n"
          ]
        }
      ]
    },
    {
      "cell_type": "code",
      "source": [
        "print(\"04_how_old_are_they\")\n",
        "\n",
        "def age():\n",
        "  anthon:int = 21\n",
        "  beth:int = anthon + 6\n",
        "  chen:int = beth + 20\n",
        "  drew:int = chen + anthon\n",
        "  ethan:int = chen\n",
        "\n",
        "  print(\"Anthon is \" + str(anthon))\n",
        "  print(\"Beth is \" + str(beth))\n",
        "  print(\"Chen is \" + str(chen))\n",
        "  print(\"Drew is \" + str(drew))\n",
        "  print(\"Ethen is \" + str(ethan))\n",
        "if __name__ == \"__main__\":\n",
        "  age()\n"
      ],
      "metadata": {
        "colab": {
          "base_uri": "https://localhost:8080/"
        },
        "id": "fPXuOmababY1",
        "outputId": "89eb47c5-4d26-4657-f292-e0a7f2ce8fe8"
      },
      "execution_count": 14,
      "outputs": [
        {
          "output_type": "stream",
          "name": "stdout",
          "text": [
            "04_how_old_are_they\n",
            "Anthon is 21\n",
            "Beth is 27\n",
            "Chen is 47\n",
            "Drew is 68\n",
            "Ethen is 47\n"
          ]
        }
      ]
    },
    {
      "cell_type": "code",
      "source": [
        "print(\"05_triangle_perimeter\")\n",
        "def size():\n",
        "  print(\"This code is about perimeter of triangle. \")\n",
        "  side1:float = float(input(\"Enter the first side of triangle. \"))\n",
        "  side2:float = float(input(\"Enter the Second side of triangle. \"))\n",
        "  side3:float = float(input(\"Enter the third side of triangle. \"))\n",
        "  total:float = side1 + side2 + side3\n",
        "  print(f'the perimeter of the triangle is {total}')\n",
        "if __name__ == \"__main__\":\n",
        "  size()\n",
        "\n"
      ],
      "metadata": {
        "colab": {
          "base_uri": "https://localhost:8080/"
        },
        "id": "b7-AXdqde1Zl",
        "outputId": "08f2311b-dcc1-4079-aa63-449d39ac5fa4"
      },
      "execution_count": 20,
      "outputs": [
        {
          "output_type": "stream",
          "name": "stdout",
          "text": [
            "05_triangle_perimeter\n",
            "This code is about perimeter of triangle. \n",
            "Enter the first side of triangle. 5\n",
            "Enter the Second side of triangle. 3\n",
            "Enter the third side of triangle. 7\n",
            "the perimeter of the triangle is 15.0\n"
          ]
        }
      ]
    },
    {
      "cell_type": "code",
      "source": [
        "print(\"06_square_number\")\n",
        "\n",
        "def square():\n",
        "  print(\"This code is about square of given number! \")\n",
        "  num1:int = int(input(\"Enter any number and i will give u a square value. \"))\n",
        "  print(f'the square of {num1} is {num1 ** 2}')\n",
        "\n",
        "if __name__ == \"__main__\":\n",
        "  square()"
      ],
      "metadata": {
        "colab": {
          "base_uri": "https://localhost:8080/"
        },
        "id": "vRFqHD7ggkjw",
        "outputId": "8a8a94a8-f226-46c6-face-ebb363605994"
      },
      "execution_count": 23,
      "outputs": [
        {
          "output_type": "stream",
          "name": "stdout",
          "text": [
            "06_square_number\n",
            "This code is about square of given number! \n",
            "Enter any number and i will give u a square value. 4\n",
            "the square of 4 is 16\n"
          ]
        }
      ]
    }
  ]
}