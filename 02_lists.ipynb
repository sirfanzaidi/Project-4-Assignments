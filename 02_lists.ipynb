{
  "nbformat": 4,
  "nbformat_minor": 0,
  "metadata": {
    "colab": {
      "provenance": [],
      "authorship_tag": "ABX9TyPCNdmSqQFkfIoS0B7gqXiK",
      "include_colab_link": true
    },
    "kernelspec": {
      "name": "python3",
      "display_name": "Python 3"
    },
    "language_info": {
      "name": "python"
    }
  },
  "cells": [
    {
      "cell_type": "markdown",
      "metadata": {
        "id": "view-in-github",
        "colab_type": "text"
      },
      "source": [
        "<a href=\"https://colab.research.google.com/github/sirfanzaidi/Project-4-Assignments/blob/main/02_lists.ipynb\" target=\"_parent\"><img src=\"https://colab.research.google.com/assets/colab-badge.svg\" alt=\"Open In Colab\"/></a>"
      ]
    },
    {
      "cell_type": "code",
      "execution_count": null,
      "metadata": {
        "colab": {
          "base_uri": "https://localhost:8080/"
        },
        "id": "jsB8nLcSCLgA",
        "outputId": "f9bd4eb4-3b6a-4cd1-f92b-fd20cff9c61e"
      },
      "outputs": [
        {
          "output_type": "stream",
          "name": "stdout",
          "text": [
            "01_add_many_number\n",
            "15\n"
          ]
        }
      ],
      "source": [
        "print (\"01_add_many_number\")\n",
        "\n",
        "def add_number(numbers)->int:\n",
        "  num:int = 0\n",
        "  for i in numbers:\n",
        "    num += i\n",
        "  return num\n",
        "\n",
        "def main():\n",
        "  numbers:list[int] = [1,2,3,4,5]\n",
        "  sum = add_number(numbers)\n",
        "  print(sum)\n",
        "if __name__== \"__main__\":\n",
        "  main()"
      ]
    },
    {
      "cell_type": "code",
      "source": [
        "print (\"02_double\")\n",
        "\n",
        "def main():\n",
        "  numbers:list[int] = [1,2,3,4,5]\n",
        "  for i in range(len(numbers)):\n",
        "    index = numbers[i]\n",
        "    numbers[i] = index * 2\n",
        "  print(numbers)\n",
        "\n",
        "if __name__== \"__main__\":\n",
        "    main()"
      ],
      "metadata": {
        "colab": {
          "base_uri": "https://localhost:8080/"
        },
        "id": "jWvr_YgNDsxF",
        "outputId": "00ec63e4-e0ae-43c3-b248-c5e3cd30d725"
      },
      "execution_count": null,
      "outputs": [
        {
          "output_type": "stream",
          "name": "stdout",
          "text": [
            "02_double\n",
            "[2, 4, 6, 8, 10]\n"
          ]
        }
      ]
    },
    {
      "cell_type": "code",
      "source": [
        "import numpy as np\n",
        "import matplotlib.pyplot as plt\n",
        "from matplotlib.patches import Rectangle\n",
        "from matplotlib.widgets import RectangleSelector\n",
        "\n",
        "# Canvas settings\n",
        "grid_size = (10, 10)\n",
        "cell_size = 1\n",
        "\n",
        "def draw_grid(ax):\n",
        "    \"\"\"Draws a grid of blue cells on the given axes.\"\"\"\n",
        "    global cells\n",
        "    cells = np.ones(grid_size)  # 1 means blue, 0 means white\n",
        "    for i in range(grid_size[0]):\n",
        "        for j in range(grid_size[1]):\n",
        "            rect = Rectangle((j * cell_size, i * cell_size), cell_size, cell_size,\n",
        "                             facecolor='blue', edgecolor='black')\n",
        "            ax.add_patch(rect)\n",
        "\n",
        "def update_canvas():\n",
        "    \"\"\"Updates the canvas by redrawing the cells.\"\"\"\n",
        "    ax.clear()\n",
        "    draw_grid(ax)\n",
        "    for i in range(grid_size[0]):\n",
        "        for j in range(grid_size[1]):\n",
        "            if cells[i, j] == 0:\n",
        "                rect = Rectangle((j * cell_size, i * cell_size), cell_size, cell_size,\n",
        "                                 facecolor='white', edgecolor='black')\n",
        "                ax.add_patch(rect)\n",
        "    fig.canvas.draw()\n",
        "\n",
        "def onselect(eclick, erelease):\n",
        "    \"\"\"Handles the eraser selection.\"\"\"\n",
        "    x_min, x_max = sorted([eclick.xdata, erelease.xdata])\n",
        "    y_min, y_max = sorted([eclick.ydata, erelease.ydata])\n",
        "\n",
        "    for i in range(grid_size[0]):\n",
        "        for j in range(grid_size[1]):\n",
        "            x, y = j * cell_size, i * cell_size\n",
        "            if x_min < x + cell_size and x_max > x and y_min < y + cell_size and y_max > y:\n",
        "                cells[i, j] = 0  # Erase the cell\n",
        "    update_canvas()\n",
        "\n",
        "# Set up figure and axis\n",
        "fig, ax = plt.subplots(figsize=(6, 6))\n",
        "ax.set_xlim(0, grid_size[1] * cell_size)\n",
        "ax.set_ylim(0, grid_size[0] * cell_size)\n",
        "ax.set_xticks([])\n",
        "ax.set_yticks([])\n",
        "ax.set_title(\"Drag to erase cells\")\n",
        "\n",
        "draw_grid(ax)\n",
        "\n",
        "# Eraser tool\n",
        "eraser = RectangleSelector(ax, onselect, interactive=True, useblit=True, button=[1])\n",
        "plt.show()\n"
      ],
      "metadata": {
        "colab": {
          "base_uri": "https://localhost:8080/",
          "height": 521
        },
        "id": "DnZicGLKE5K6",
        "outputId": "1d5c995c-9ff4-4c30-d96e-da6f3679cb76"
      },
      "execution_count": null,
      "outputs": [
        {
          "output_type": "display_data",
          "data": {
            "text/plain": [
              "<Figure size 600x600 with 1 Axes>"
            ],
            "image/png": "[encoded data removed]"
          },
          "metadata": {}
        }
      ]
    },
    {
      "cell_type": "code",
      "source": [
        "print (\"04_flowing_with_data_structures\")\n",
        "\n",
        "def add_three_copies(list,data):\n",
        "  for i in range(3):\n",
        "    list.append(data)\n",
        "\n",
        "def main():\n",
        "  message = input(\"Enter a message to copy. \")\n",
        "  list = []\n",
        "  print(\"Befor list:\", list)\n",
        "  add_three_copies(list, message)\n",
        "  print(\"After list: \", list)\n",
        "if __name__== \"__main__\":\n",
        "  main()\n"
      ],
      "metadata": {
        "colab": {
          "base_uri": "https://localhost:8080/"
        },
        "id": "S7FqLEsvFdt4",
        "outputId": "109d239a-9e39-4c22-b97b-e70ca23082de"
      },
      "execution_count": null,
      "outputs": [
        {
          "output_type": "stream",
          "name": "stdout",
          "text": [
            "04_flowing_with_data_structures\n",
            "Enter a message to copy. 1\n",
            "Befor list: []\n",
            "After list:  ['1', '1', '1']\n"
          ]
        }
      ]
    },
    {
      "cell_type": "code",
      "source": [
        "print(\"05_get_first_element\")\n",
        "\n",
        "def get_first_element(list):\n",
        "  print(list[0])\n",
        "\n",
        "def get_list():\n",
        "  list = []\n",
        "  elem:str = input(\"Enter an element to add to the list. \")\n",
        "  while elem != \"\":\n",
        "    list.append(elem)\n",
        "    elem = input(\"Enter an element to add to the list\")\n",
        "  return list\n",
        "\n",
        "def main():\n",
        "    list = get_list()\n",
        "    get_firsst_element(list)\n",
        "\n",
        "if __name__ == \"__main__\":\n",
        "    main()"
      ],
      "metadata": {
        "colab": {
          "base_uri": "https://localhost:8080/"
        },
        "id": "p4i4pmC0IAVY",
        "outputId": "5abe57e5-4433-4813-c975-1e7b6d3bbaed"
      },
      "execution_count": null,
      "outputs": [
        {
          "output_type": "stream",
          "name": "stdout",
          "text": [
            "05_get_first_element\n",
            "Enter an element to add to the list. a\n",
            "Enter an element to add to the lists\n",
            "Enter an element to add to the listd\n",
            "Enter an element to add to the list\n",
            "a\n"
          ]
        }
      ]
    },
    {
      "cell_type": "code",
      "source": [
        "print(\"06_get_last_element\")\n",
        "\n",
        "def get_last_element(list):\n",
        "  print(list[-1])\n",
        "\n",
        "def get_list():\n",
        "  list = []\n",
        "  elem:str = input(\"Enter an element to add to the list. \")\n",
        "  while elem != \"\":\n",
        "    list.append(elem)\n",
        "    elem = input(\"Enter an element to add to the list\")\n",
        "  return list\n",
        "\n",
        "def main():\n",
        "    list = get_list()\n",
        "    get_last_element(list)\n",
        "\n",
        "if __name__ == \"__main__\":\n",
        "    main()"
      ],
      "metadata": {
        "colab": {
          "base_uri": "https://localhost:8080/"
        },
        "id": "_gFr2XOtPWoC",
        "outputId": "d5a46a43-532f-43f1-8da0-dab92ce39e76"
      },
      "execution_count": null,
      "outputs": [
        {
          "output_type": "stream",
          "name": "stdout",
          "text": [
            "06_get_last_element\n",
            "Enter an element to add to the list. 15\n",
            "Enter an element to add to the list12\n",
            "Enter an element to add to the list1\n",
            "Enter an element to add to the list\n",
            "1\n"
          ]
        }
      ]
    },
    {
      "cell_type": "code",
      "source": [
        "print(\"07_get_list\")\n",
        "\n",
        "def main():\n",
        "  list = []\n",
        "  value =  input(\"Enter a vulue to add to the list. \")\n",
        "  while value:\n",
        "    list.append(value)\n",
        "    value = input(\"Enter a value to add to the list.\")\n",
        "  print(\"Here's the list:\",list)\n",
        "\n",
        "\n",
        "\n",
        "if __name__ == \"__main__\":\n",
        "    main()"
      ],
      "metadata": {
        "id": "3F1ect8JP8wh",
        "colab": {
          "base_uri": "https://localhost:8080/"
        },
        "outputId": "ed567d35-e532-41e3-f015-5d20c9dbc4c2"
      },
      "execution_count": 9,
      "outputs": [
        {
          "output_type": "stream",
          "name": "stdout",
          "text": [
            "07_get_list\n",
            "Enter a vulue to add to the list. irfan\n",
            "Enter a value to add to the list.imran\n",
            "Enter a value to add to the list.rizwan\n",
            "Enter a value to add to the list.farhan\n",
            "Enter a value to add to the list.furqan\n",
            "Enter a value to add to the list.\n",
            "Here's the list: ['irfan', 'imran', 'rizwan', 'farhan', 'furqan']\n"
          ]
        }
      ]
    },
    {
      "cell_type": "code",
      "source": [
        "print(\"08_shorten\")\n",
        "\n",
        "MAX_LENGTH:int = 3\n",
        "def shor45ten(list):\n",
        "  while len(list) >= MAX_LENGTH:\n",
        "    last_elementt = list.pop()\n",
        "    print(last_elementt)\n",
        "\n",
        "def get_list():\n",
        "  list = []\n",
        "  element = input(\"Enter an element to add to the list.\")\n",
        "  while element != \"\":\n",
        "    list.append(element)\n",
        "    element = input(\"Enter an element to add to the list.\")\n",
        "  return list\n",
        "\n",
        "def main():\n",
        "  list = get_list()\n",
        "  shoter(list)\n",
        "\n",
        "if __name__ == \"__main__\":\n",
        "  main()\n"
      ],
      "metadata": {
        "colab": {
          "base_uri": "https://localhost:8080/"
        },
        "id": "wxzPcAUrBL6z",
        "outputId": "5b030e8e-b383-4ec0-cb31-d66d37ba8fda"
      },
      "execution_count": 15,
      "outputs": [
        {
          "output_type": "stream",
          "name": "stdout",
          "text": [
            "08_shorten\n",
            "Enter an element to add to the list.1\n",
            "Enter an element to add to the list.2\n",
            "Enter an element to add to the list.3\n",
            "Enter an element to add to the list.4\n",
            "Enter an element to add to the list.5\n",
            "Enter an element to add to the list.6\n",
            "Enter an element to add to the list.7\n",
            "Enter an element to add to the list.8\n",
            "Enter an element to add to the list.\n",
            "8\n",
            "7\n",
            "6\n",
            "5\n",
            "4\n",
            "3\n"
          ]
        }
      ]
    }
  ]
}